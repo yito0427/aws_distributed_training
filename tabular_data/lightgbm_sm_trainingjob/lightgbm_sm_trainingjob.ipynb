{
 "cells": [
  {
   "cell_type": "markdown",
   "id": "a3e5f782-339f-450d-bf8a-eb432f703fc1",
   "metadata": {},
   "source": [
    "# LightGBMを、SageMakerカスタムコンテナで実行する\n",
    "\n",
    "https://dev.classmethod.jp/articles/sagemaker-container-image-lightgbm/\n",
    "\n",
    "* カスタムコンテナ作成\n",
    "* SageMaker学習ジョブ - ローカルモード\n",
    "* Sagemaker学習ジョブ\n",
    "* エンドポイントデプロイ\n",
    "* 推論実施\n"
   ]
  },
  {
   "cell_type": "code",
   "execution_count": 12,
   "id": "4085b08f-3087-4c44-b2d4-c64284f88bfb",
   "metadata": {},
   "outputs": [
    {
     "name": "stdout",
     "output_type": "stream",
     "text": [
      "# Build an image that can do training and inference in SageMaker\n",
      "# This is a Python 3 image that uses the nginx, gunicorn, flask stack\n",
      "# for serving inferences in a stable way.\n",
      "\n",
      "FROM ubuntu:18.04\n",
      "\n",
      "MAINTAINER Amazon AI <sage-learner@amazon.com>\n",
      "\n",
      "\n",
      "RUN apt -y update && apt install -y --no-install-recommends \\\n",
      "    wget \\\n",
      "    python3-distutils \\\n",
      "    nginx \\\n",
      "    ca-certificates \\\n",
      "    libgomp1 \\\n",
      "    && apt clean\n",
      "\n",
      "# Here we get all python packages.\n",
      "# There's substantial overlap between scipy and numpy that we eliminate by\n",
      "# linking them together. Likewise, pip leaves the install caches populated which uses\n",
      "# a significant amount of space. These optimizations save a fair amount of space in the\n",
      "# image, which reduces start up time.\n",
      "RUN wget https://bootstrap.pypa.io/get-pip.py && python3 get-pip.py && \\\n",
      "    pip install wheel numpy scipy scikit-learn pandas lightgbm flask gevent gunicorn && \\\n",
      "    rm -rf /root/.cache\n",
      "\n",
      "# Set some environment variables. PYTHONUNBUFFERED keeps Python from buffering our standard\n",
      "# output stream, which means that logs can be delivered to the user quickly. PYTHONDONTWRITEBYTECODE\n",
      "# keeps Python from writing the .pyc files which are unnecessary in this case. We also update\n",
      "# PATH so that the train and serve programs are found when the container is invoked.\n",
      "\n",
      "ENV PYTHONUNBUFFERED=TRUE\n",
      "ENV PYTHONDONTWRITEBYTECODE=TRUE\n",
      "ENV PATH=\"/opt/program:${PATH}\"\n",
      "\n",
      "# Set up the program in the image\n",
      "COPY src /opt/program\n",
      "WORKDIR /opt/program\n"
     ]
    }
   ],
   "source": [
    "!cat container/Dockerfile"
   ]
  },
  {
   "cell_type": "code",
   "execution_count": 13,
   "id": "b3e68e9a-ea91-4ff4-a84e-3296951d1b61",
   "metadata": {},
   "outputs": [
    {
     "ename": "SyntaxError",
     "evalue": "invalid syntax (build_and_push.sh, line 7)",
     "output_type": "error",
     "traceback": [
      "\u001b[0;36m  File \u001b[0;32m\"/home/ec2-user/SageMaker/aws_distributed_training/tabular_data/lightgbm_sm_trainingjob/container/build_and_push.sh\"\u001b[0;36m, line \u001b[0;32m7\u001b[0m\n\u001b[0;31m    chmod +x src/train\u001b[0m\n\u001b[0m             ^\u001b[0m\n\u001b[0;31mSyntaxError\u001b[0m\u001b[0;31m:\u001b[0m invalid syntax\n"
     ]
    }
   ],
   "source": [
    "%run ./container/build_and_push.sh"
   ]
  },
  {
   "cell_type": "code",
   "execution_count": 9,
   "id": "6c045adb-e663-47b6-a5c1-87fff3770865",
   "metadata": {},
   "outputs": [
    {
     "name": "stdout",
     "output_type": "stream",
     "text": [
      "/usr/bin/sh\n"
     ]
    }
   ],
   "source": [
    "!which sh"
   ]
  },
  {
   "cell_type": "code",
   "execution_count": 16,
   "id": "edf1e0f3-9223-4f5f-b725-f3e2f7d4ada6",
   "metadata": {},
   "outputs": [
    {
     "name": "stdout",
     "output_type": "stream",
     "text": [
      "Login Succeeded\n",
      "The push refers to repository [805433377179.dkr.ecr.us-west-2.amazonaws.com/sagemaker-lightgbm]\n"
     ]
    },
    {
     "name": "stderr",
     "output_type": "stream",
     "text": [
      "WARNING! Using --password via the CLI is insecure. Use --password-stdin.\n",
      "WARNING! Your password will be stored unencrypted in /home/ec2-user/.docker/config.json.\n",
      "Configure a credential helper to remove this warning. See\n",
      "https://docs.docker.com/engine/reference/commandline/login/#credentials-store\n",
      "\n",
      "unable to prepare context: unable to evaluate symlinks in Dockerfile path: lstat /home/ec2-user/SageMaker/aws_distributed_training/tabular_data/lightgbm_sm_trainingjob/Dockerfile: no such file or directory\n",
      "Error response from daemon: No such image: sagemaker-lightgbm:latest\n",
      "An image does not exist locally with the tag: 805433377179.dkr.ecr.us-west-2.amazonaws.com/sagemaker-lightgbm\n"
     ]
    },
    {
     "ename": "CalledProcessError",
     "evalue": "Command 'b'\\n# \\xe3\\x82\\xa2\\xe3\\x83\\xab\\xe3\\x82\\xb4\\xe3\\x83\\xaa\\xe3\\x82\\xba\\xe3\\x83\\xa0\\xe5\\x90\\x8d\\nalgorithm_name=sagemaker-lightgbm\\n\\n# \\xe3\\x83\\x95\\xe3\\x82\\xa1\\xe3\\x82\\xa4\\xe3\\x83\\xab\\xe3\\x82\\x92\\xe5\\xae\\x9f\\xe8\\xa1\\x8c\\xe5\\x8f\\xaf\\xe8\\x83\\xbd\\xe3\\x81\\xab\\xe3\\x81\\x99\\xe3\\x82\\x8b\\nchmod +x container/src/train\\nchmod +x container/src/serve\\n\\n# \\xe3\\x82\\xa2\\xe3\\x82\\xab\\xe3\\x82\\xa6\\xe3\\x83\\xb3\\xe3\\x83\\x88ID\\xe5\\x8f\\x96\\xe5\\xbe\\x97\\naccount=$(aws sts get-caller-identity --query Account --output text)\\n\\n# \\xe3\\x83\\xaa\\xe3\\x83\\xbc\\xe3\\x82\\xb8\\xe3\\x83\\xa7\\xe3\\x83\\xb3\\xe5\\x90\\x8d\\n#region=\\'ap-northeast-1\\'\\nregion=\\'us-west-2\\'\\n\\n# \\xe3\\x83\\xaa\\xe3\\x83\\x9d\\xe3\\x82\\xb8\\xe3\\x83\\x88\\xe3\\x83\\xaaarn\\nfullname=\"${account}.dkr.ecr.${region}.amazonaws.com/${algorithm_name}:latest\"\\n\\n# ECR\\xe3\\x81\\xae\\xe3\\x83\\xaa\\xe3\\x83\\x9d\\xe3\\x82\\xb8\\xe3\\x83\\x88\\xe3\\x83\\xaa\\xe3\\x81\\x8c\\xe5\\xad\\x98\\xe5\\x9c\\xa8\\xe3\\x81\\x97\\xe3\\x81\\xaa\\xe3\\x81\\x91\\xe3\\x82\\x8c\\xe3\\x81\\xb0\\xe4\\xbd\\x9c\\xe6\\x88\\x90\\xe3\\x81\\x99\\xe3\\x82\\x8b\\naws --region ${region} ecr describe-repositories --repository-names \"${algorithm_name}\" > /dev/null 2>&1\\n\\nif [ $? -ne 0 ]\\nthen\\n    aws --region ${region} ecr create-repository --repository-name \"${algorithm_name}\" > /dev/null\\nfi\\n\\n# ECR\\xe3\\x81\\xb8\\xe3\\x81\\xae\\xe3\\x83\\xad\\xe3\\x82\\xb0\\xe3\\x82\\xa4\\xe3\\x83\\xb3\\xe3\\x82\\xb3\\xe3\\x83\\x9e\\xe3\\x83\\xb3\\xe3\\x83\\x89\\xe3\\x82\\x92\\xe5\\x8f\\x96\\xe5\\xbe\\x97\\xe3\\x81\\x97\\xe3\\x80\\x81\\xe3\\x83\\xad\\xe3\\x82\\xb0\\xe3\\x82\\xa4\\xe3\\x83\\xb3\\xe3\\x81\\x99\\xe3\\x82\\x8b\\n$(aws ecr get-login --region ${region} --no-include-email)\\n\\n\\n# \\xe3\\x82\\xb3\\xe3\\x83\\xb3\\xe3\\x83\\x86\\xe3\\x83\\x8a\\xe3\\x82\\xa4\\xe3\\x83\\xa1\\xe3\\x83\\xbc\\xe3\\x82\\xb8\\xe3\\x82\\x92\\xe3\\x83\\x93\\xe3\\x83\\xab\\xe3\\x83\\x89\\xe3\\x81\\x99\\xe3\\x82\\x8b\\ndocker build  -t ${algorithm_name} .\\ndocker tag ${algorithm_name} ${fullname}\\n\\n# ECR\\xe3\\x81\\xae\\xe3\\x83\\xaa\\xe3\\x83\\x9d\\xe3\\x82\\xb8\\xe3\\x83\\x88\\xe3\\x83\\xaa\\xe3\\x81\\xb8\\xe3\\x83\\x97\\xe3\\x83\\x83\\xe3\\x82\\xb7\\xe3\\x83\\xa5\\xe3\\x81\\x99\\xe3\\x82\\x8b\\ndocker push ${fullname}\\n'' returned non-zero exit status 1.",
     "output_type": "error",
     "traceback": [
      "\u001b[0;31m---------------------------------------------------------------------------\u001b[0m",
      "\u001b[0;31mCalledProcessError\u001b[0m                        Traceback (most recent call last)",
      "\u001b[0;32m/tmp/ipykernel_16814/1059990550.py\u001b[0m in \u001b[0;36m<cell line: 1>\u001b[0;34m()\u001b[0m\n\u001b[0;32m----> 1\u001b[0;31m \u001b[0mget_ipython\u001b[0m\u001b[0;34m(\u001b[0m\u001b[0;34m)\u001b[0m\u001b[0;34m.\u001b[0m\u001b[0mrun_cell_magic\u001b[0m\u001b[0;34m(\u001b[0m\u001b[0;34m'sh'\u001b[0m\u001b[0;34m,\u001b[0m \u001b[0;34m''\u001b[0m\u001b[0;34m,\u001b[0m \u001b[0;34m'\\n# アルゴリズム名\\nalgorithm_name=sagemaker-lightgbm\\n\\n# ファイルを実行可能にする\\nchmod +x container/src/train\\nchmod +x container/src/serve\\n\\n# アカウントID取得\\naccount=$(aws sts get-caller-identity --query Account --output text)\\n\\n# リージョン名\\n#region=\\'ap-northeast-1\\'\\nregion=\\'us-west-2\\'\\n\\n# リポジトリarn\\nfullname=\"${account}.dkr.ecr.${region}.amazonaws.com/${algorithm_name}:latest\"\\n\\n# ECRのリポジトリが存在しなければ作成する\\naws --region ${region} ecr describe-repositories --repository-names \"${algorithm_name}\" > /dev/null 2>&1\\n\\nif [ $? -ne 0 ]\\nthen\\n    aws --region ${region} ecr create-repository --repository-name \"${algorithm_name}\" > /dev/null\\nfi\\n\\n# ECRへのログインコマンドを取得し、ログインする\\n$(aws ecr get-login --region ${region} --no-include-email)\\n\\n\\n# コンテナイメージをビルドする\\ndocker build  -t ${algorithm_name} .\\ndocker tag ${algorithm_name} ${fullname}\\n\\n# ECRのリポジトリへプッシュする\\ndocker push ${fullname}\\n'\u001b[0m\u001b[0;34m)\u001b[0m\u001b[0;34m\u001b[0m\u001b[0;34m\u001b[0m\u001b[0m\n\u001b[0m",
      "\u001b[0;32m~/anaconda3/envs/python3/lib/python3.8/site-packages/IPython/core/interactiveshell.py\u001b[0m in \u001b[0;36mrun_cell_magic\u001b[0;34m(self, magic_name, line, cell)\u001b[0m\n\u001b[1;32m   2460\u001b[0m             \u001b[0;32mwith\u001b[0m \u001b[0mself\u001b[0m\u001b[0;34m.\u001b[0m\u001b[0mbuiltin_trap\u001b[0m\u001b[0;34m:\u001b[0m\u001b[0;34m\u001b[0m\u001b[0;34m\u001b[0m\u001b[0m\n\u001b[1;32m   2461\u001b[0m                 \u001b[0margs\u001b[0m \u001b[0;34m=\u001b[0m \u001b[0;34m(\u001b[0m\u001b[0mmagic_arg_s\u001b[0m\u001b[0;34m,\u001b[0m \u001b[0mcell\u001b[0m\u001b[0;34m)\u001b[0m\u001b[0;34m\u001b[0m\u001b[0;34m\u001b[0m\u001b[0m\n\u001b[0;32m-> 2462\u001b[0;31m                 \u001b[0mresult\u001b[0m \u001b[0;34m=\u001b[0m \u001b[0mfn\u001b[0m\u001b[0;34m(\u001b[0m\u001b[0;34m*\u001b[0m\u001b[0margs\u001b[0m\u001b[0;34m,\u001b[0m \u001b[0;34m**\u001b[0m\u001b[0mkwargs\u001b[0m\u001b[0;34m)\u001b[0m\u001b[0;34m\u001b[0m\u001b[0;34m\u001b[0m\u001b[0m\n\u001b[0m\u001b[1;32m   2463\u001b[0m             \u001b[0;32mreturn\u001b[0m \u001b[0mresult\u001b[0m\u001b[0;34m\u001b[0m\u001b[0;34m\u001b[0m\u001b[0m\n\u001b[1;32m   2464\u001b[0m \u001b[0;34m\u001b[0m\u001b[0m\n",
      "\u001b[0;32m~/anaconda3/envs/python3/lib/python3.8/site-packages/IPython/core/magics/script.py\u001b[0m in \u001b[0;36mnamed_script_magic\u001b[0;34m(line, cell)\u001b[0m\n\u001b[1;32m    140\u001b[0m             \u001b[0;32melse\u001b[0m\u001b[0;34m:\u001b[0m\u001b[0;34m\u001b[0m\u001b[0;34m\u001b[0m\u001b[0m\n\u001b[1;32m    141\u001b[0m                 \u001b[0mline\u001b[0m \u001b[0;34m=\u001b[0m \u001b[0mscript\u001b[0m\u001b[0;34m\u001b[0m\u001b[0;34m\u001b[0m\u001b[0m\n\u001b[0;32m--> 142\u001b[0;31m             \u001b[0;32mreturn\u001b[0m \u001b[0mself\u001b[0m\u001b[0;34m.\u001b[0m\u001b[0mshebang\u001b[0m\u001b[0;34m(\u001b[0m\u001b[0mline\u001b[0m\u001b[0;34m,\u001b[0m \u001b[0mcell\u001b[0m\u001b[0;34m)\u001b[0m\u001b[0;34m\u001b[0m\u001b[0;34m\u001b[0m\u001b[0m\n\u001b[0m\u001b[1;32m    143\u001b[0m \u001b[0;34m\u001b[0m\u001b[0m\n\u001b[1;32m    144\u001b[0m         \u001b[0;31m# write a basic docstring:\u001b[0m\u001b[0;34m\u001b[0m\u001b[0;34m\u001b[0m\u001b[0;34m\u001b[0m\u001b[0m\n",
      "\u001b[0;32m~/anaconda3/envs/python3/lib/python3.8/site-packages/decorator.py\u001b[0m in \u001b[0;36mfun\u001b[0;34m(*args, **kw)\u001b[0m\n\u001b[1;32m    230\u001b[0m             \u001b[0;32mif\u001b[0m \u001b[0;32mnot\u001b[0m \u001b[0mkwsyntax\u001b[0m\u001b[0;34m:\u001b[0m\u001b[0;34m\u001b[0m\u001b[0;34m\u001b[0m\u001b[0m\n\u001b[1;32m    231\u001b[0m                 \u001b[0margs\u001b[0m\u001b[0;34m,\u001b[0m \u001b[0mkw\u001b[0m \u001b[0;34m=\u001b[0m \u001b[0mfix\u001b[0m\u001b[0;34m(\u001b[0m\u001b[0margs\u001b[0m\u001b[0;34m,\u001b[0m \u001b[0mkw\u001b[0m\u001b[0;34m,\u001b[0m \u001b[0msig\u001b[0m\u001b[0;34m)\u001b[0m\u001b[0;34m\u001b[0m\u001b[0;34m\u001b[0m\u001b[0m\n\u001b[0;32m--> 232\u001b[0;31m             \u001b[0;32mreturn\u001b[0m \u001b[0mcaller\u001b[0m\u001b[0;34m(\u001b[0m\u001b[0mfunc\u001b[0m\u001b[0;34m,\u001b[0m \u001b[0;34m*\u001b[0m\u001b[0;34m(\u001b[0m\u001b[0mextras\u001b[0m \u001b[0;34m+\u001b[0m \u001b[0margs\u001b[0m\u001b[0;34m)\u001b[0m\u001b[0;34m,\u001b[0m \u001b[0;34m**\u001b[0m\u001b[0mkw\u001b[0m\u001b[0;34m)\u001b[0m\u001b[0;34m\u001b[0m\u001b[0;34m\u001b[0m\u001b[0m\n\u001b[0m\u001b[1;32m    233\u001b[0m     \u001b[0mfun\u001b[0m\u001b[0;34m.\u001b[0m\u001b[0m__name__\u001b[0m \u001b[0;34m=\u001b[0m \u001b[0mfunc\u001b[0m\u001b[0;34m.\u001b[0m\u001b[0m__name__\u001b[0m\u001b[0;34m\u001b[0m\u001b[0;34m\u001b[0m\u001b[0m\n\u001b[1;32m    234\u001b[0m     \u001b[0mfun\u001b[0m\u001b[0;34m.\u001b[0m\u001b[0m__doc__\u001b[0m \u001b[0;34m=\u001b[0m \u001b[0mfunc\u001b[0m\u001b[0;34m.\u001b[0m\u001b[0m__doc__\u001b[0m\u001b[0;34m\u001b[0m\u001b[0;34m\u001b[0m\u001b[0m\n",
      "\u001b[0;32m~/anaconda3/envs/python3/lib/python3.8/site-packages/IPython/core/magic.py\u001b[0m in \u001b[0;36m<lambda>\u001b[0;34m(f, *a, **k)\u001b[0m\n\u001b[1;32m    185\u001b[0m     \u001b[0;31m# but it's overkill for just that one bit of state.\u001b[0m\u001b[0;34m\u001b[0m\u001b[0;34m\u001b[0m\u001b[0;34m\u001b[0m\u001b[0m\n\u001b[1;32m    186\u001b[0m     \u001b[0;32mdef\u001b[0m \u001b[0mmagic_deco\u001b[0m\u001b[0;34m(\u001b[0m\u001b[0marg\u001b[0m\u001b[0;34m)\u001b[0m\u001b[0;34m:\u001b[0m\u001b[0;34m\u001b[0m\u001b[0;34m\u001b[0m\u001b[0m\n\u001b[0;32m--> 187\u001b[0;31m         \u001b[0mcall\u001b[0m \u001b[0;34m=\u001b[0m \u001b[0;32mlambda\u001b[0m \u001b[0mf\u001b[0m\u001b[0;34m,\u001b[0m \u001b[0;34m*\u001b[0m\u001b[0ma\u001b[0m\u001b[0;34m,\u001b[0m \u001b[0;34m**\u001b[0m\u001b[0mk\u001b[0m\u001b[0;34m:\u001b[0m \u001b[0mf\u001b[0m\u001b[0;34m(\u001b[0m\u001b[0;34m*\u001b[0m\u001b[0ma\u001b[0m\u001b[0;34m,\u001b[0m \u001b[0;34m**\u001b[0m\u001b[0mk\u001b[0m\u001b[0;34m)\u001b[0m\u001b[0;34m\u001b[0m\u001b[0;34m\u001b[0m\u001b[0m\n\u001b[0m\u001b[1;32m    188\u001b[0m \u001b[0;34m\u001b[0m\u001b[0m\n\u001b[1;32m    189\u001b[0m         \u001b[0;32mif\u001b[0m \u001b[0mcallable\u001b[0m\u001b[0;34m(\u001b[0m\u001b[0marg\u001b[0m\u001b[0;34m)\u001b[0m\u001b[0;34m:\u001b[0m\u001b[0;34m\u001b[0m\u001b[0;34m\u001b[0m\u001b[0m\n",
      "\u001b[0;32m~/anaconda3/envs/python3/lib/python3.8/site-packages/IPython/core/magics/script.py\u001b[0m in \u001b[0;36mshebang\u001b[0;34m(self, line, cell)\u001b[0m\n\u001b[1;32m    243\u001b[0m             \u001b[0msys\u001b[0m\u001b[0;34m.\u001b[0m\u001b[0mstderr\u001b[0m\u001b[0;34m.\u001b[0m\u001b[0mflush\u001b[0m\u001b[0;34m(\u001b[0m\u001b[0;34m)\u001b[0m\u001b[0;34m\u001b[0m\u001b[0;34m\u001b[0m\u001b[0m\n\u001b[1;32m    244\u001b[0m         \u001b[0;32mif\u001b[0m \u001b[0margs\u001b[0m\u001b[0;34m.\u001b[0m\u001b[0mraise_error\u001b[0m \u001b[0;32mand\u001b[0m \u001b[0mp\u001b[0m\u001b[0;34m.\u001b[0m\u001b[0mreturncode\u001b[0m\u001b[0;34m!=\u001b[0m\u001b[0;36m0\u001b[0m\u001b[0;34m:\u001b[0m\u001b[0;34m\u001b[0m\u001b[0;34m\u001b[0m\u001b[0m\n\u001b[0;32m--> 245\u001b[0;31m             \u001b[0;32mraise\u001b[0m \u001b[0mCalledProcessError\u001b[0m\u001b[0;34m(\u001b[0m\u001b[0mp\u001b[0m\u001b[0;34m.\u001b[0m\u001b[0mreturncode\u001b[0m\u001b[0;34m,\u001b[0m \u001b[0mcell\u001b[0m\u001b[0;34m,\u001b[0m \u001b[0moutput\u001b[0m\u001b[0;34m=\u001b[0m\u001b[0mout\u001b[0m\u001b[0;34m,\u001b[0m \u001b[0mstderr\u001b[0m\u001b[0;34m=\u001b[0m\u001b[0merr\u001b[0m\u001b[0;34m)\u001b[0m\u001b[0;34m\u001b[0m\u001b[0;34m\u001b[0m\u001b[0m\n\u001b[0m\u001b[1;32m    246\u001b[0m \u001b[0;34m\u001b[0m\u001b[0m\n\u001b[1;32m    247\u001b[0m     \u001b[0;32mdef\u001b[0m \u001b[0m_run_script\u001b[0m\u001b[0;34m(\u001b[0m\u001b[0mself\u001b[0m\u001b[0;34m,\u001b[0m \u001b[0mp\u001b[0m\u001b[0;34m,\u001b[0m \u001b[0mcell\u001b[0m\u001b[0;34m,\u001b[0m \u001b[0mto_close\u001b[0m\u001b[0;34m)\u001b[0m\u001b[0;34m:\u001b[0m\u001b[0;34m\u001b[0m\u001b[0;34m\u001b[0m\u001b[0m\n",
      "\u001b[0;31mCalledProcessError\u001b[0m: Command 'b'\\n# \\xe3\\x82\\xa2\\xe3\\x83\\xab\\xe3\\x82\\xb4\\xe3\\x83\\xaa\\xe3\\x82\\xba\\xe3\\x83\\xa0\\xe5\\x90\\x8d\\nalgorithm_name=sagemaker-lightgbm\\n\\n# \\xe3\\x83\\x95\\xe3\\x82\\xa1\\xe3\\x82\\xa4\\xe3\\x83\\xab\\xe3\\x82\\x92\\xe5\\xae\\x9f\\xe8\\xa1\\x8c\\xe5\\x8f\\xaf\\xe8\\x83\\xbd\\xe3\\x81\\xab\\xe3\\x81\\x99\\xe3\\x82\\x8b\\nchmod +x container/src/train\\nchmod +x container/src/serve\\n\\n# \\xe3\\x82\\xa2\\xe3\\x82\\xab\\xe3\\x82\\xa6\\xe3\\x83\\xb3\\xe3\\x83\\x88ID\\xe5\\x8f\\x96\\xe5\\xbe\\x97\\naccount=$(aws sts get-caller-identity --query Account --output text)\\n\\n# \\xe3\\x83\\xaa\\xe3\\x83\\xbc\\xe3\\x82\\xb8\\xe3\\x83\\xa7\\xe3\\x83\\xb3\\xe5\\x90\\x8d\\n#region=\\'ap-northeast-1\\'\\nregion=\\'us-west-2\\'\\n\\n# \\xe3\\x83\\xaa\\xe3\\x83\\x9d\\xe3\\x82\\xb8\\xe3\\x83\\x88\\xe3\\x83\\xaaarn\\nfullname=\"${account}.dkr.ecr.${region}.amazonaws.com/${algorithm_name}:latest\"\\n\\n# ECR\\xe3\\x81\\xae\\xe3\\x83\\xaa\\xe3\\x83\\x9d\\xe3\\x82\\xb8\\xe3\\x83\\x88\\xe3\\x83\\xaa\\xe3\\x81\\x8c\\xe5\\xad\\x98\\xe5\\x9c\\xa8\\xe3\\x81\\x97\\xe3\\x81\\xaa\\xe3\\x81\\x91\\xe3\\x82\\x8c\\xe3\\x81\\xb0\\xe4\\xbd\\x9c\\xe6\\x88\\x90\\xe3\\x81\\x99\\xe3\\x82\\x8b\\naws --region ${region} ecr describe-repositories --repository-names \"${algorithm_name}\" > /dev/null 2>&1\\n\\nif [ $? -ne 0 ]\\nthen\\n    aws --region ${region} ecr create-repository --repository-name \"${algorithm_name}\" > /dev/null\\nfi\\n\\n# ECR\\xe3\\x81\\xb8\\xe3\\x81\\xae\\xe3\\x83\\xad\\xe3\\x82\\xb0\\xe3\\x82\\xa4\\xe3\\x83\\xb3\\xe3\\x82\\xb3\\xe3\\x83\\x9e\\xe3\\x83\\xb3\\xe3\\x83\\x89\\xe3\\x82\\x92\\xe5\\x8f\\x96\\xe5\\xbe\\x97\\xe3\\x81\\x97\\xe3\\x80\\x81\\xe3\\x83\\xad\\xe3\\x82\\xb0\\xe3\\x82\\xa4\\xe3\\x83\\xb3\\xe3\\x81\\x99\\xe3\\x82\\x8b\\n$(aws ecr get-login --region ${region} --no-include-email)\\n\\n\\n# \\xe3\\x82\\xb3\\xe3\\x83\\xb3\\xe3\\x83\\x86\\xe3\\x83\\x8a\\xe3\\x82\\xa4\\xe3\\x83\\xa1\\xe3\\x83\\xbc\\xe3\\x82\\xb8\\xe3\\x82\\x92\\xe3\\x83\\x93\\xe3\\x83\\xab\\xe3\\x83\\x89\\xe3\\x81\\x99\\xe3\\x82\\x8b\\ndocker build  -t ${algorithm_name} .\\ndocker tag ${algorithm_name} ${fullname}\\n\\n# ECR\\xe3\\x81\\xae\\xe3\\x83\\xaa\\xe3\\x83\\x9d\\xe3\\x82\\xb8\\xe3\\x83\\x88\\xe3\\x83\\xaa\\xe3\\x81\\xb8\\xe3\\x83\\x97\\xe3\\x83\\x83\\xe3\\x82\\xb7\\xe3\\x83\\xa5\\xe3\\x81\\x99\\xe3\\x82\\x8b\\ndocker push ${fullname}\\n'' returned non-zero exit status 1."
     ]
    }
   ],
   "source": [
    "%%sh\n",
    "\n",
    "# アルゴリズム名\n",
    "algorithm_name=sagemaker-lightgbm\n",
    "\n",
    "# ファイルを実行可能にする\n",
    "chmod +x container/src/train\n",
    "chmod +x container/src/serve\n",
    "\n",
    "# アカウントID取得\n",
    "account=$(aws sts get-caller-identity --query Account --output text)\n",
    "\n",
    "# リージョン名\n",
    "#region='ap-northeast-1'\n",
    "region='us-west-2'\n",
    "\n",
    "# リポジトリarn\n",
    "fullname=\"${account}.dkr.ecr.${region}.amazonaws.com/${algorithm_name}:latest\"\n",
    "\n",
    "# ECRのリポジトリが存在しなければ作成する\n",
    "aws --region ${region} ecr describe-repositories --repository-names \"${algorithm_name}\" > /dev/null 2>&1\n",
    "\n",
    "if [ $? -ne 0 ]\n",
    "then\n",
    "    aws --region ${region} ecr create-repository --repository-name \"${algorithm_name}\" > /dev/null\n",
    "fi\n",
    "\n",
    "# ECRへのログインコマンドを取得し、ログインする\n",
    "$(aws ecr get-login --region ${region} --no-include-email)\n",
    "\n",
    "\n",
    "# コンテナイメージをビルドする\n",
    "docker build  -t ${algorithm_name} .\n",
    "docker tag ${algorithm_name} ${fullname}\n",
    "\n",
    "# ECRのリポジトリへプッシュする\n",
    "docker push ${fullname}"
   ]
  },
  {
   "cell_type": "code",
   "execution_count": null,
   "id": "dae5a845-cabb-4c41-bcfe-8a75d847efc1",
   "metadata": {},
   "outputs": [],
   "source": []
  }
 ],
 "metadata": {
  "kernelspec": {
   "display_name": "conda_python3",
   "language": "python",
   "name": "conda_python3"
  },
  "language_info": {
   "codemirror_mode": {
    "name": "ipython",
    "version": 3
   },
   "file_extension": ".py",
   "mimetype": "text/x-python",
   "name": "python",
   "nbconvert_exporter": "python",
   "pygments_lexer": "ipython3",
   "version": "3.8.12"
  }
 },
 "nbformat": 4,
 "nbformat_minor": 5
}
