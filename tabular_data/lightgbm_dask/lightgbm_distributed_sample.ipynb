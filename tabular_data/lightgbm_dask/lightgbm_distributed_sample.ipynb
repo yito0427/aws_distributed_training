{
 "cells": [
  {
   "cell_type": "markdown",
   "id": "f9b75b7b-11ab-4fa9-bd0f-621db6ac408f",
   "metadata": {},
   "source": [
    "# LightGBMのDASKサンプルを実行\n",
    "\n",
    "https://github.com/microsoft/LightGBM/blob/master/examples/python-guide/dask/regression.py"
   ]
  },
  {
   "cell_type": "code",
   "execution_count": 2,
   "id": "65452022-2aaa-4391-87f9-e485184f9d97",
   "metadata": {},
   "outputs": [
    {
     "name": "stdout",
     "output_type": "stream",
     "text": [
      "Looking in indexes: https://pypi.org/simple, https://pip.repos.neuron.amazonaws.com\n",
      "Collecting lightgbm\n",
      "  Downloading lightgbm-3.3.2-py3-none-manylinux1_x86_64.whl (2.0 MB)\n",
      "\u001b[2K     \u001b[90m━━━━━━━━━━━━━━━━━━━━━━━━━━━━━━━━━━━━━━━━\u001b[0m \u001b[32m2.0/2.0 MB\u001b[0m \u001b[31m25.7 MB/s\u001b[0m eta \u001b[36m0:00:00\u001b[0m00:01\u001b[0m0:01\u001b[0m\n",
      "\u001b[?25hRequirement already satisfied: numpy in /home/ec2-user/anaconda3/envs/python3/lib/python3.8/site-packages (from lightgbm) (1.20.3)\n",
      "Requirement already satisfied: wheel in /home/ec2-user/anaconda3/envs/python3/lib/python3.8/site-packages (from lightgbm) (0.37.0)\n",
      "Requirement already satisfied: scipy in /home/ec2-user/anaconda3/envs/python3/lib/python3.8/site-packages (from lightgbm) (1.5.3)\n",
      "Requirement already satisfied: scikit-learn!=0.22.0 in /home/ec2-user/anaconda3/envs/python3/lib/python3.8/site-packages (from lightgbm) (1.0.1)\n",
      "Requirement already satisfied: threadpoolctl>=2.0.0 in /home/ec2-user/anaconda3/envs/python3/lib/python3.8/site-packages (from scikit-learn!=0.22.0->lightgbm) (3.0.0)\n",
      "Requirement already satisfied: joblib>=0.11 in /home/ec2-user/anaconda3/envs/python3/lib/python3.8/site-packages (from scikit-learn!=0.22.0->lightgbm) (1.1.0)\n",
      "Installing collected packages: lightgbm\n",
      "Successfully installed lightgbm-3.3.2\n",
      "\u001b[33mWARNING: You are using pip version 22.0.4; however, version 22.2.2 is available.\n",
      "You should consider upgrading via the '/home/ec2-user/anaconda3/envs/python3/bin/python -m pip install --upgrade pip' command.\u001b[0m\u001b[33m\n",
      "\u001b[0m"
     ]
    }
   ],
   "source": [
    "!pip install lightgbm"
   ]
  },
  {
   "cell_type": "code",
   "execution_count": 3,
   "id": "d5d3c693-9cd4-4fee-9bef-1bf9517247ac",
   "metadata": {},
   "outputs": [
    {
     "name": "stdout",
     "output_type": "stream",
     "text": [
      "loading data\n",
      "initializing a Dask cluster\n",
      "created a Dask LocalCluster\n",
      "distributing training data on the Dask cluster\n",
      "beginning training\n",
      "Finding random open ports for workers\n"
     ]
    },
    {
     "name": "stderr",
     "output_type": "stream",
     "text": [
      "/home/ec2-user/anaconda3/envs/python3/lib/python3.8/site-packages/lightgbm/dask.py:525: UserWarning: Parameter n_jobs will be ignored.\n",
      "  _log_warning(f\"Parameter {param_alias} will be ignored.\")\n"
     ]
    },
    {
     "name": "stdout",
     "output_type": "stream",
     "text": [
      "[LightGBM] [Info] Trying to bind port 39407...\n",
      "[LightGBM] [Info] Binding port 39407 succeeded\n",
      "[LightGBM] [Warning] Connecting to rank 1 failed, waiting for 200 milliseconds\n",
      "[LightGBM] [Info] Listening...\n",
      "[LightGBM] [Warning] Connecting to rank 1 failed, waiting for 260 milliseconds\n",
      "[LightGBM] [Warning] Connecting to rank 1 failed, waiting for 338 milliseconds\n",
      "[LightGBM] [Info] Trying to bind port 57927...\n",
      "[LightGBM] [Info] Binding port 57927 succeeded\n",
      "[LightGBM] [Info] Listening...\n",
      "[LightGBM] [Info] Connected to rank 1\n",
      "[LightGBM] [Info] Connected to rank 0\n",
      "[LightGBM] [Info] Local rank: 1, total number of machines: 2\n",
      "[LightGBM] [Info] Local rank: 0, total number of machines: 2\n",
      "[LightGBM] [Warning] num_threads is set=16, n_jobs=-1 will be ignored. Current value: num_threads=16\n",
      "[LightGBM] [Warning] num_threads is set=16, n_jobs=-1 will be ignored. Current value: num_threads=16\n",
      "done training\n"
     ]
    }
   ],
   "source": [
    "import dask.array as da\n",
    "from distributed import Client, LocalCluster\n",
    "from sklearn.datasets import make_regression\n",
    "\n",
    "import lightgbm as lgb\n",
    "\n",
    "if __name__ == \"__main__\":\n",
    "    print(\"loading data\")\n",
    "\n",
    "    X, y = make_regression(n_samples=1000, n_features=50)\n",
    "\n",
    "    print(\"initializing a Dask cluster\")\n",
    "\n",
    "    cluster = LocalCluster(n_workers=2)\n",
    "    client = Client(cluster)\n",
    "\n",
    "    print(\"created a Dask LocalCluster\")\n",
    "\n",
    "    print(\"distributing training data on the Dask cluster\")\n",
    "\n",
    "    dX = da.from_array(X, chunks=(100, 50))\n",
    "    dy = da.from_array(y, chunks=(100,))\n",
    "\n",
    "    print(\"beginning training\")\n",
    "\n",
    "    dask_model = lgb.DaskLGBMRegressor(n_estimators=10)\n",
    "    dask_model.fit(dX, dy)\n",
    "    assert dask_model.fitted_\n",
    "\n",
    "    print(\"done training\")"
   ]
  },
  {
   "cell_type": "code",
   "execution_count": null,
   "id": "e47478aa-bef1-4738-8464-2e909b8fb800",
   "metadata": {},
   "outputs": [],
   "source": []
  }
 ],
 "metadata": {
  "kernelspec": {
   "display_name": "conda_python3",
   "language": "python",
   "name": "conda_python3"
  },
  "language_info": {
   "codemirror_mode": {
    "name": "ipython",
    "version": 3
   },
   "file_extension": ".py",
   "mimetype": "text/x-python",
   "name": "python",
   "nbconvert_exporter": "python",
   "pygments_lexer": "ipython3",
   "version": "3.8.12"
  }
 },
 "nbformat": 4,
 "nbformat_minor": 5
}
